{
  "nbformat": 4,
  "nbformat_minor": 0,
  "metadata": {
    "accelerator": "GPU",
    "colab": {
      "name": "e-mail spam detection.ipynb",
      "provenance": [],
      "include_colab_link": true
    },
    "kernelspec": {
      "display_name": "Python 3",
      "language": "python",
      "name": "python3"
    },
    "language_info": {
      "codemirror_mode": {
        "name": "ipython",
        "version": 3
      },
      "file_extension": ".py",
      "mimetype": "text/x-python",
      "name": "python",
      "nbconvert_exporter": "python",
      "pygments_lexer": "ipython3",
      "version": "3.7.6"
    }
  },
  "cells": [
    {
      "cell_type": "markdown",
      "metadata": {
        "id": "view-in-github",
        "colab_type": "text"
      },
      "source": [
        "<a href=\"https://colab.research.google.com/github/sadaqatali1234/practice/blob/master/e_mail_spam_detection.ipynb\" target=\"_parent\"><img src=\"https://colab.research.google.com/assets/colab-badge.svg\" alt=\"Open In Colab\"/></a>"
      ]
    },
    {
      "cell_type": "code",
      "metadata": {
        "id": "kAhnHQy0RVuO"
      },
      "source": [
        "# import libarires\n",
        "import pandas as pd\n",
        "import numpy as np\n",
        "import nltk\n",
        "from nltk.corpus import stopwords\n",
        "import string"
      ],
      "execution_count": 39,
      "outputs": []
    },
    {
      "cell_type": "code",
      "metadata": {
        "id": "NqRJo_VZRVuo"
      },
      "source": [
        "# load & read the Data\n",
        "df= pd.read_csv(\"/content/s_dataset.csv\")\n"
      ],
      "execution_count": 40,
      "outputs": []
    },
    {
      "cell_type": "code",
      "metadata": {
        "id": "vHI-7frbRVus",
        "colab": {
          "base_uri": "https://localhost:8080/",
          "height": 202
        },
        "outputId": "a0462feb-b18b-40b7-ab35-c5eb55477627"
      },
      "source": [
        "# print the first five rows\n",
        "df.head(5)"
      ],
      "execution_count": 41,
      "outputs": [
        {
          "output_type": "execute_result",
          "data": {
            "text/html": [
              "<div>\n",
              "<style scoped>\n",
              "    .dataframe tbody tr th:only-of-type {\n",
              "        vertical-align: middle;\n",
              "    }\n",
              "\n",
              "    .dataframe tbody tr th {\n",
              "        vertical-align: top;\n",
              "    }\n",
              "\n",
              "    .dataframe thead th {\n",
              "        text-align: right;\n",
              "    }\n",
              "</style>\n",
              "<table border=\"1\" class=\"dataframe\">\n",
              "  <thead>\n",
              "    <tr style=\"text-align: right;\">\n",
              "      <th></th>\n",
              "      <th>Unnamed: 0</th>\n",
              "      <th>label</th>\n",
              "      <th>text</th>\n",
              "      <th>label_num</th>\n",
              "    </tr>\n",
              "  </thead>\n",
              "  <tbody>\n",
              "    <tr>\n",
              "      <th>0</th>\n",
              "      <td>605</td>\n",
              "      <td>nonSpam</td>\n",
              "      <td>Subject: enron methanol ; meter # : 988291\\r\\n...</td>\n",
              "      <td>0</td>\n",
              "    </tr>\n",
              "    <tr>\n",
              "      <th>1</th>\n",
              "      <td>2349</td>\n",
              "      <td>nonSpam</td>\n",
              "      <td>Subject: hpl nom for january 9 , 2001\\r\\n( see...</td>\n",
              "      <td>0</td>\n",
              "    </tr>\n",
              "    <tr>\n",
              "      <th>2</th>\n",
              "      <td>3624</td>\n",
              "      <td>nonSpam</td>\n",
              "      <td>Subject: neon retreat\\r\\nho ho ho , we ' re ar...</td>\n",
              "      <td>0</td>\n",
              "    </tr>\n",
              "    <tr>\n",
              "      <th>3</th>\n",
              "      <td>4685</td>\n",
              "      <td>spam</td>\n",
              "      <td>Subject: photoshop , windows , office . cheap ...</td>\n",
              "      <td>1</td>\n",
              "    </tr>\n",
              "    <tr>\n",
              "      <th>4</th>\n",
              "      <td>2030</td>\n",
              "      <td>nonSpam</td>\n",
              "      <td>Subject: re : indian springs\\r\\nthis deal is t...</td>\n",
              "      <td>0</td>\n",
              "    </tr>\n",
              "  </tbody>\n",
              "</table>\n",
              "</div>"
            ],
            "text/plain": [
              "   Unnamed: 0  ... label_num\n",
              "0         605  ...         0\n",
              "1        2349  ...         0\n",
              "2        3624  ...         0\n",
              "3        4685  ...         1\n",
              "4        2030  ...         0\n",
              "\n",
              "[5 rows x 4 columns]"
            ]
          },
          "metadata": {
            "tags": []
          },
          "execution_count": 41
        }
      ]
    },
    {
      "cell_type": "code",
      "metadata": {
        "id": "gE-nCyl3RVuw"
      },
      "source": [
        "# delete the unwanted columns\n",
        "del df[\"Unnamed: 0\"]"
      ],
      "execution_count": 42,
      "outputs": []
    },
    {
      "cell_type": "code",
      "metadata": {
        "id": "0ysjUqW8RVu3",
        "colab": {
          "base_uri": "https://localhost:8080/"
        },
        "outputId": "eaf3f702-b0f9-4b5d-a634-daf32a216e33"
      },
      "source": [
        "# check the shape\n",
        "df.shape"
      ],
      "execution_count": 43,
      "outputs": [
        {
          "output_type": "execute_result",
          "data": {
            "text/plain": [
              "(5171, 3)"
            ]
          },
          "metadata": {
            "tags": []
          },
          "execution_count": 43
        }
      ]
    },
    {
      "cell_type": "code",
      "metadata": {
        "id": "bgUXaIqlRVu5",
        "colab": {
          "base_uri": "https://localhost:8080/"
        },
        "outputId": "dd3bda3e-e019-46ab-c56e-bd4d05bcb727"
      },
      "source": [
        "# check the columns of dataframe\n",
        "df.columns"
      ],
      "execution_count": 44,
      "outputs": [
        {
          "output_type": "execute_result",
          "data": {
            "text/plain": [
              "Index(['label', 'text', 'label_num'], dtype='object')"
            ]
          },
          "metadata": {
            "tags": []
          },
          "execution_count": 44
        }
      ]
    },
    {
      "cell_type": "code",
      "metadata": {
        "id": "eD-G_SbWRVu6"
      },
      "source": [
        "# check all duplicates and drop\n",
        "df.drop_duplicates(inplace=True)"
      ],
      "execution_count": 45,
      "outputs": []
    },
    {
      "cell_type": "code",
      "metadata": {
        "id": "cRxNlWjtRVu7",
        "colab": {
          "base_uri": "https://localhost:8080/"
        },
        "outputId": "409187ce-ac48-4e1d-8cef-f2b0062bb619"
      },
      "source": [
        "# after droping check the shape\n",
        "df.shape"
      ],
      "execution_count": 46,
      "outputs": [
        {
          "output_type": "execute_result",
          "data": {
            "text/plain": [
              "(4993, 3)"
            ]
          },
          "metadata": {
            "tags": []
          },
          "execution_count": 46
        }
      ]
    },
    {
      "cell_type": "code",
      "metadata": {
        "id": "ekUrmN3tRVu8",
        "colab": {
          "base_uri": "https://localhost:8080/"
        },
        "outputId": "7b5bcf76-1381-4cc1-fa2d-7d911dd3738d"
      },
      "source": [
        "# check null values\n",
        "df.isnull().any()"
      ],
      "execution_count": 47,
      "outputs": [
        {
          "output_type": "execute_result",
          "data": {
            "text/plain": [
              "label        False\n",
              "text         False\n",
              "label_num    False\n",
              "dtype: bool"
            ]
          },
          "metadata": {
            "tags": []
          },
          "execution_count": 47
        }
      ]
    },
    {
      "cell_type": "code",
      "metadata": {
        "id": "JYjwXXCpRVu_",
        "colab": {
          "base_uri": "https://localhost:8080/"
        },
        "outputId": "d7b3470c-c232-4a9d-d194-a398798c70c5"
      },
      "source": [
        "#Need to download stopwords\n",
        "nltk.download('stopwords')"
      ],
      "execution_count": 48,
      "outputs": [
        {
          "output_type": "stream",
          "text": [
            "[nltk_data] Downloading package stopwords to /root/nltk_data...\n",
            "[nltk_data]   Package stopwords is already up-to-date!\n"
          ],
          "name": "stdout"
        },
        {
          "output_type": "execute_result",
          "data": {
            "text/plain": [
              "True"
            ]
          },
          "metadata": {
            "tags": []
          },
          "execution_count": 48
        }
      ]
    },
    {
      "cell_type": "code",
      "metadata": {
        "id": "lzKdupY1RVvA"
      },
      "source": [
        "#Tokenization (a list of tokens), will be used as the analyzer\n",
        "#1.Punctuations are [!\"#$%&'()*+,-./:;<=>?@[\\]^_`{|}~]\n",
        "#2.Stop words in natural language processing, are useless words (data).\n",
        "def process_text(text):\n",
        "    \n",
        "    #1 Remove Punctuation\n",
        "    nopunc = [char for char in text if char not in string.punctuation]\n",
        "    nopunc = ''.join(nopunc)\n",
        "    \n",
        "    #2 Remove Stop Words\n",
        "    clean_words = [word for word in nopunc.split() if word.lower() not in stopwords.words('english')]\n",
        "    \n",
        "    #3 Return a list of clean words\n",
        "    return clean_words"
      ],
      "execution_count": 49,
      "outputs": []
    },
    {
      "cell_type": "code",
      "metadata": {
        "id": "ASZPq6MuRVvC",
        "colab": {
          "base_uri": "https://localhost:8080/"
        },
        "outputId": "6f9d4193-1293-45ce-ce86-2df0b0228d40"
      },
      "source": [
        "#Show the Tokenization (a list of tokens )\n",
        "df['text'].head(10).apply(process_text)"
      ],
      "execution_count": 50,
      "outputs": [
        {
          "output_type": "execute_result",
          "data": {
            "text/plain": [
              "0    [Subject, enron, methanol, meter, 988291, foll...\n",
              "1    [Subject, hpl, nom, january, 9, 2001, see, att...\n",
              "2    [Subject, neon, retreat, ho, ho, ho, around, w...\n",
              "3    [Subject, photoshop, windows, office, cheap, m...\n",
              "4    [Subject, indian, springs, deal, book, teco, p...\n",
              "5    [Subject, ehronline, web, address, change, mes...\n",
              "6    [Subject, spring, savings, certificate, take, ...\n",
              "7    [Subject, looking, medication, best, source, d...\n",
              "8    [Subject, noms, actual, flow, 2, 26, agree, fo...\n",
              "9    [Subject, nominations, oct, 21, 23, 2000, see,...\n",
              "Name: text, dtype: object"
            ]
          },
          "metadata": {
            "tags": []
          },
          "execution_count": 50
        }
      ]
    },
    {
      "cell_type": "code",
      "metadata": {
        "id": "uCaxHJCCRVvD",
        "scrolled": true
      },
      "source": [
        "# convert a text  to metric of a token\n",
        "from sklearn.feature_extraction.text import CountVectorizer\n",
        "messages_bow = CountVectorizer(analyzer=process_text).fit_transform(df['text'])"
      ],
      "execution_count": 51,
      "outputs": []
    },
    {
      "cell_type": "code",
      "metadata": {
        "id": "fYR4dUEPRVvE"
      },
      "source": [
        "#Split data into 70% training & 30% testing data sets\n",
        "from sklearn.model_selection import train_test_split\n",
        "X_train, X_test, y_train, y_test = train_test_split(messages_bow, df['label'], test_size = 0.30, random_state = 0)"
      ],
      "execution_count": 52,
      "outputs": []
    },
    {
      "cell_type": "code",
      "metadata": {
        "id": "TmdzMYF_THVp"
      },
      "source": [
        ""
      ],
      "execution_count": 52,
      "outputs": []
    },
    {
      "cell_type": "code",
      "metadata": {
        "id": "znv5SaY-RVvH",
        "colab": {
          "base_uri": "https://localhost:8080/"
        },
        "outputId": "cdba14eb-afec-4aa0-ccb4-a1753d8be664"
      },
      "source": [
        "#Get the shape of messages_bow\n",
        "messages_bow.shape"
      ],
      "execution_count": 53,
      "outputs": [
        {
          "output_type": "execute_result",
          "data": {
            "text/plain": [
              "(4993, 50381)"
            ]
          },
          "metadata": {
            "tags": []
          },
          "execution_count": 53
        }
      ]
    },
    {
      "cell_type": "code",
      "metadata": {
        "id": "tGVqE3BsRVvK",
        "colab": {
          "base_uri": "https://localhost:8080/"
        },
        "outputId": "1a372ae2-c421-44d4-ee8a-f0b4a8f34797"
      },
      "source": [
        "from sklearn.naive_bayes import MultinomialNB\n",
        "classifier = MultinomialNB()\n",
        "classifier.fit(X_train, y_train)"
      ],
      "execution_count": 54,
      "outputs": [
        {
          "output_type": "execute_result",
          "data": {
            "text/plain": [
              "MultinomialNB(alpha=1.0, class_prior=None, fit_prior=True)"
            ]
          },
          "metadata": {
            "tags": []
          },
          "execution_count": 54
        }
      ]
    },
    {
      "cell_type": "code",
      "metadata": {
        "id": "E55QD3g_RVvL",
        "colab": {
          "base_uri": "https://localhost:8080/"
        },
        "outputId": "0bfc0662-9d86-411d-f52b-866ec146dfbe"
      },
      "source": [
        "#Print the predictions\n",
        "print(classifier.predict(X_train))\n",
        "#Print the actual values\n",
        "print(\"_____________________\")\n",
        "print(y_train.values)"
      ],
      "execution_count": 55,
      "outputs": [
        {
          "output_type": "stream",
          "text": [
            "['nonSpam' 'nonSpam' 'spam' ... 'nonSpam' 'nonSpam' 'spam']\n",
            "_____________________\n",
            "['nonSpam' 'nonSpam' 'spam' ... 'nonSpam' 'nonSpam' 'spam']\n"
          ],
          "name": "stdout"
        }
      ]
    },
    {
      "cell_type": "code",
      "metadata": {
        "id": "csuw-M-NRVvO",
        "colab": {
          "base_uri": "https://localhost:8080/"
        },
        "outputId": "0e7ddb67-6862-4d6f-a737-3514cd01d62a"
      },
      "source": [
        "#Evaluate the model on the training data set\n",
        "from sklearn.metrics import classification_report,confusion_matrix, accuracy_score\n",
        "pred = classifier.predict(X_train)\n",
        "print(classification_report(y_train,pred ))\n",
        "print(\"___________________________________________________________________________________________\")\n",
        "print('Confusion Matrix: \\n',confusion_matrix(y_train,pred))\n",
        "print(\"_________________________________________________________________________________________\")\n",
        "print('Accuracy: ', accuracy_score(y_train,pred))\n"
      ],
      "execution_count": 56,
      "outputs": [
        {
          "output_type": "stream",
          "text": [
            "              precision    recall  f1-score   support\n",
            "\n",
            "     nonSpam       1.00      0.99      0.99      2442\n",
            "        spam       0.99      0.99      0.99      1053\n",
            "\n",
            "    accuracy                           0.99      3495\n",
            "   macro avg       0.99      0.99      0.99      3495\n",
            "weighted avg       0.99      0.99      0.99      3495\n",
            "\n",
            "___________________________________________________________________________________________\n",
            "Confusion Matrix: \n",
            " [[2428   14]\n",
            " [  11 1042]]\n",
            "_________________________________________________________________________________________\n",
            "Accuracy:  0.9928469241773963\n"
          ],
          "name": "stdout"
        }
      ]
    },
    {
      "cell_type": "code",
      "metadata": {
        "id": "OprRPQ_GRVvQ",
        "colab": {
          "base_uri": "https://localhost:8080/"
        },
        "outputId": "68cc646b-1daa-4be2-8912-71b47a62b09f"
      },
      "source": [
        "#Print the predictions\n",
        "print('Predicted value: ',classifier.predict(X_test))\n",
        "#Print Actual Label\n",
        "print('Actual value: ',y_test.values)"
      ],
      "execution_count": 57,
      "outputs": [
        {
          "output_type": "stream",
          "text": [
            "Predicted value:  ['nonSpam' 'nonSpam' 'nonSpam' ... 'spam' 'nonSpam' 'nonSpam']\n",
            "Actual value:  ['nonSpam' 'nonSpam' 'nonSpam' ... 'spam' 'nonSpam' 'nonSpam']\n"
          ],
          "name": "stdout"
        }
      ]
    },
    {
      "cell_type": "code",
      "metadata": {
        "id": "a3WY3WZ4RVvS",
        "colab": {
          "base_uri": "https://localhost:8080/"
        },
        "outputId": "f8d7aa7b-2a60-452e-fa3b-63f8c4394308"
      },
      "source": [
        "#Evaluate the model on the test data set\n",
        "from sklearn.metrics import classification_report,confusion_matrix, accuracy_score\n",
        "pred = classifier.predict(X_test)\n",
        "print(classification_report(y_test ,pred ))\n",
        "print('Confusion Matrix: \\n', confusion_matrix(y_test,pred))\n",
        "print()\n",
        "print('Accuracy: ', accuracy_score(y_test,pred))"
      ],
      "execution_count": 58,
      "outputs": [
        {
          "output_type": "stream",
          "text": [
            "              precision    recall  f1-score   support\n",
            "\n",
            "     nonSpam       0.99      0.98      0.98      1089\n",
            "        spam       0.95      0.97      0.96       409\n",
            "\n",
            "    accuracy                           0.98      1498\n",
            "   macro avg       0.97      0.97      0.97      1498\n",
            "weighted avg       0.98      0.98      0.98      1498\n",
            "\n",
            "Confusion Matrix: \n",
            " [[1067   22]\n",
            " [  14  395]]\n",
            "\n",
            "Accuracy:  0.9759679572763685\n"
          ],
          "name": "stdout"
        }
      ]
    }
  ]
}