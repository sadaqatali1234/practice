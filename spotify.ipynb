{
  "nbformat": 4,
  "nbformat_minor": 0,
  "metadata": {
    "colab": {
      "name": "spotify.ipynb",
      "provenance": [],
      "authorship_tag": "ABX9TyP4z2aaYE+PxNGikpZSdj+0",
      "include_colab_link": true
    },
    "kernelspec": {
      "name": "python3",
      "display_name": "Python 3"
    },
    "language_info": {
      "name": "python"
    }
  },
  "cells": [
    {
      "cell_type": "markdown",
      "metadata": {
        "id": "view-in-github",
        "colab_type": "text"
      },
      "source": [
        "<a href=\"https://colab.research.google.com/github/sadaqatali1234/practice/blob/master/spotify.ipynb\" target=\"_parent\"><img src=\"https://colab.research.google.com/assets/colab-badge.svg\" alt=\"Open In Colab\"/></a>"
      ]
    },
    {
      "cell_type": "code",
      "metadata": {
        "colab": {
          "base_uri": "https://localhost:8080/"
        },
        "id": "8uy963DTZF8-",
        "outputId": "8303c345-0679-4095-aaaa-55314c710b15"
      },
      "source": [
        "from google.colab import drive\n",
        "drive.mount(\"/content/drive\")"
      ],
      "execution_count": 1,
      "outputs": [
        {
          "output_type": "stream",
          "text": [
            "Drive already mounted at /content/drive; to attempt to forcibly remount, call drive.mount(\"/content/drive\", force_remount=True).\n"
          ],
          "name": "stdout"
        }
      ]
    },
    {
      "cell_type": "code",
      "metadata": {
        "id": "tNuChZeTZG5J"
      },
      "source": [
        "import matplotlib.pyplot as plt\n",
        "import numpy as np\n",
        "import pandas as pd"
      ],
      "execution_count": 2,
      "outputs": []
    },
    {
      "cell_type": "code",
      "metadata": {
        "id": "1GNj51ajZaUU"
      },
      "source": [
        "df = pd.read_csv(\"/content/drive/MyDrive/Spotify.csv\")"
      ],
      "execution_count": 3,
      "outputs": []
    },
    {
      "cell_type": "code",
      "metadata": {
        "colab": {
          "base_uri": "https://localhost:8080/",
          "height": 496
        },
        "id": "zs9nzzncZrcK",
        "outputId": "6d47d295-a003-4d34-db42-8977d041627d"
      },
      "source": [
        "df.head()"
      ],
      "execution_count": 4,
      "outputs": [
        {
          "output_type": "execute_result",
          "data": {
            "text/html": [
              "<div>\n",
              "<style scoped>\n",
              "    .dataframe tbody tr th:only-of-type {\n",
              "        vertical-align: middle;\n",
              "    }\n",
              "\n",
              "    .dataframe tbody tr th {\n",
              "        vertical-align: top;\n",
              "    }\n",
              "\n",
              "    .dataframe thead th {\n",
              "        text-align: right;\n",
              "    }\n",
              "</style>\n",
              "<table border=\"1\" class=\"dataframe\">\n",
              "  <thead>\n",
              "    <tr style=\"text-align: right;\">\n",
              "      <th></th>\n",
              "      <th>ID</th>\n",
              "      <th>Artistes</th>\n",
              "      <th>Titre</th>\n",
              "      <th>Durée</th>\n",
              "      <th>Année</th>\n",
              "      <th>Valence</th>\n",
              "      <th>Acoustique</th>\n",
              "      <th>Dansant</th>\n",
              "      <th>Énergie</th>\n",
              "      <th>Explicite</th>\n",
              "      <th>Instrumental</th>\n",
              "      <th>Tonalité</th>\n",
              "      <th>Direct</th>\n",
              "      <th>Intensité</th>\n",
              "      <th>Mode</th>\n",
              "      <th>Discours</th>\n",
              "      <th>Tempo</th>\n",
              "      <th>Popularité</th>\n",
              "    </tr>\n",
              "  </thead>\n",
              "  <tbody>\n",
              "    <tr>\n",
              "      <th>0</th>\n",
              "      <td>4BJqT0PrAfrxzMOxytFOIz</td>\n",
              "      <td>['Sergei Rachmaninoff', 'James Levine', 'Berli...</td>\n",
              "      <td>Piano Concerto No. 3 in D Minor, Op. 30: III. ...</td>\n",
              "      <td>831667</td>\n",
              "      <td>1921</td>\n",
              "      <td>0.0594</td>\n",
              "      <td>0.982</td>\n",
              "      <td>0.279</td>\n",
              "      <td>0.211</td>\n",
              "      <td>Non</td>\n",
              "      <td>0.878000</td>\n",
              "      <td>10.0</td>\n",
              "      <td>0.665</td>\n",
              "      <td>-20.096</td>\n",
              "      <td>Majeur</td>\n",
              "      <td>0.0366</td>\n",
              "      <td>80.954</td>\n",
              "      <td>4</td>\n",
              "    </tr>\n",
              "    <tr>\n",
              "      <th>1</th>\n",
              "      <td>7xPhfUan2yNtyFG0cUWkt8</td>\n",
              "      <td>['Dennis Day']</td>\n",
              "      <td>Clancy Lowered the Boom</td>\n",
              "      <td>180533</td>\n",
              "      <td>1921</td>\n",
              "      <td>0.9630</td>\n",
              "      <td>0.732</td>\n",
              "      <td>0.819</td>\n",
              "      <td>0.341</td>\n",
              "      <td>Non</td>\n",
              "      <td>0.000000</td>\n",
              "      <td>7.0</td>\n",
              "      <td>0.160</td>\n",
              "      <td>NaN</td>\n",
              "      <td>Majeur</td>\n",
              "      <td>0.4150</td>\n",
              "      <td>60.936</td>\n",
              "      <td>5</td>\n",
              "    </tr>\n",
              "    <tr>\n",
              "      <th>2</th>\n",
              "      <td>1o6I8BglA6ylDMrIELygv1</td>\n",
              "      <td>['KHP Kridhamardawa Karaton Ngayogyakarta Hadi...</td>\n",
              "      <td>Gati Bali</td>\n",
              "      <td>500062</td>\n",
              "      <td>1921</td>\n",
              "      <td>0.0394</td>\n",
              "      <td>0.961</td>\n",
              "      <td>0.328</td>\n",
              "      <td>0.166</td>\n",
              "      <td>Non</td>\n",
              "      <td>0.913000</td>\n",
              "      <td>3.0</td>\n",
              "      <td>0.101</td>\n",
              "      <td>-14.850</td>\n",
              "      <td>Majeur</td>\n",
              "      <td>0.0339</td>\n",
              "      <td>110.339</td>\n",
              "      <td>5</td>\n",
              "    </tr>\n",
              "    <tr>\n",
              "      <th>3</th>\n",
              "      <td>3ftBPsC5vPBKxYSee08FDH</td>\n",
              "      <td>['Frank Parker']</td>\n",
              "      <td>Danny Boy</td>\n",
              "      <td>210000</td>\n",
              "      <td>1921</td>\n",
              "      <td>0.1650</td>\n",
              "      <td>0.967</td>\n",
              "      <td>0.275</td>\n",
              "      <td>0.309</td>\n",
              "      <td>Non</td>\n",
              "      <td>0.000028</td>\n",
              "      <td>5.0</td>\n",
              "      <td>0.381</td>\n",
              "      <td>-9.316</td>\n",
              "      <td>Majeur</td>\n",
              "      <td>0.0354</td>\n",
              "      <td>100.109</td>\n",
              "      <td>3</td>\n",
              "    </tr>\n",
              "    <tr>\n",
              "      <th>4</th>\n",
              "      <td>4d6HGyGT8e121BsdKmw9v6</td>\n",
              "      <td>['Phil Regan']</td>\n",
              "      <td>When Irish Eyes Are Smiling</td>\n",
              "      <td>166693</td>\n",
              "      <td>1921</td>\n",
              "      <td>0.2530</td>\n",
              "      <td>0.957</td>\n",
              "      <td>0.418</td>\n",
              "      <td>0.193</td>\n",
              "      <td>Non</td>\n",
              "      <td>0.000002</td>\n",
              "      <td>3.0</td>\n",
              "      <td>0.229</td>\n",
              "      <td>-10.096</td>\n",
              "      <td>Majeur</td>\n",
              "      <td>0.0380</td>\n",
              "      <td>101.665</td>\n",
              "      <td>2</td>\n",
              "    </tr>\n",
              "  </tbody>\n",
              "</table>\n",
              "</div>"
            ],
            "text/plain": [
              "                       ID  ... Popularité\n",
              "0  4BJqT0PrAfrxzMOxytFOIz  ...          4\n",
              "1  7xPhfUan2yNtyFG0cUWkt8  ...          5\n",
              "2  1o6I8BglA6ylDMrIELygv1  ...          5\n",
              "3  3ftBPsC5vPBKxYSee08FDH  ...          3\n",
              "4  4d6HGyGT8e121BsdKmw9v6  ...          2\n",
              "\n",
              "[5 rows x 18 columns]"
            ]
          },
          "metadata": {
            "tags": []
          },
          "execution_count": 4
        }
      ]
    },
    {
      "cell_type": "code",
      "metadata": {
        "colab": {
          "base_uri": "https://localhost:8080/"
        },
        "id": "qDPjUgLsZtgc",
        "outputId": "fda0fbcd-a73d-4791-bc1f-d5ddd43da1f6"
      },
      "source": [
        "df.isnull().sum()"
      ],
      "execution_count": 5,
      "outputs": [
        {
          "output_type": "execute_result",
          "data": {
            "text/plain": [
              "ID                 0\n",
              "Artistes           0\n",
              "Titre              0\n",
              "Durée              0\n",
              "Année              0\n",
              "Valence         4682\n",
              "Acoustique      3558\n",
              "Dansant         3720\n",
              "Énergie         4699\n",
              "Explicite       8251\n",
              "Instrumental    1894\n",
              "Tonalité        7618\n",
              "Direct           651\n",
              "Intensité       7452\n",
              "Mode              88\n",
              "Discours        6581\n",
              "Tempo              0\n",
              "Popularité         0\n",
              "dtype: int64"
            ]
          },
          "metadata": {
            "tags": []
          },
          "execution_count": 5
        }
      ]
    },
    {
      "cell_type": "code",
      "metadata": {
        "id": "CHRf8ykzbYlM"
      },
      "source": [
        "df.fillna(method=\"ffill\",inplace=True)"
      ],
      "execution_count": 6,
      "outputs": []
    },
    {
      "cell_type": "code",
      "metadata": {
        "colab": {
          "base_uri": "https://localhost:8080/"
        },
        "id": "Oh7wXrDBao7H",
        "outputId": "c60ff3e1-469c-4e7c-d6d7-146b1997a80a"
      },
      "source": [
        "df.notnull().sum()"
      ],
      "execution_count": 7,
      "outputs": [
        {
          "output_type": "execute_result",
          "data": {
            "text/plain": [
              "ID              170653\n",
              "Artistes        170653\n",
              "Titre           170653\n",
              "Durée           170653\n",
              "Année           170653\n",
              "Valence         170653\n",
              "Acoustique      170653\n",
              "Dansant         170653\n",
              "Énergie         170653\n",
              "Explicite       170653\n",
              "Instrumental    170653\n",
              "Tonalité        170653\n",
              "Direct          170653\n",
              "Intensité       170653\n",
              "Mode            170653\n",
              "Discours        170653\n",
              "Tempo           170653\n",
              "Popularité      170653\n",
              "dtype: int64"
            ]
          },
          "metadata": {
            "tags": []
          },
          "execution_count": 7
        }
      ]
    },
    {
      "cell_type": "code",
      "metadata": {
        "colab": {
          "base_uri": "https://localhost:8080/",
          "height": 317
        },
        "id": "gGjGzpU3a_ro",
        "outputId": "4604738f-c157-48d0-c14a-55d28fa5d599"
      },
      "source": [
        "df.describe()"
      ],
      "execution_count": 8,
      "outputs": [
        {
          "output_type": "execute_result",
          "data": {
            "text/html": [
              "<div>\n",
              "<style scoped>\n",
              "    .dataframe tbody tr th:only-of-type {\n",
              "        vertical-align: middle;\n",
              "    }\n",
              "\n",
              "    .dataframe tbody tr th {\n",
              "        vertical-align: top;\n",
              "    }\n",
              "\n",
              "    .dataframe thead th {\n",
              "        text-align: right;\n",
              "    }\n",
              "</style>\n",
              "<table border=\"1\" class=\"dataframe\">\n",
              "  <thead>\n",
              "    <tr style=\"text-align: right;\">\n",
              "      <th></th>\n",
              "      <th>Durée</th>\n",
              "      <th>Année</th>\n",
              "      <th>Valence</th>\n",
              "      <th>Acoustique</th>\n",
              "      <th>Dansant</th>\n",
              "      <th>Énergie</th>\n",
              "      <th>Instrumental</th>\n",
              "      <th>Tonalité</th>\n",
              "      <th>Direct</th>\n",
              "      <th>Intensité</th>\n",
              "      <th>Discours</th>\n",
              "      <th>Tempo</th>\n",
              "      <th>Popularité</th>\n",
              "    </tr>\n",
              "  </thead>\n",
              "  <tbody>\n",
              "    <tr>\n",
              "      <th>count</th>\n",
              "      <td>1.706530e+05</td>\n",
              "      <td>170653.000000</td>\n",
              "      <td>170653.000000</td>\n",
              "      <td>170653.000000</td>\n",
              "      <td>170653.000000</td>\n",
              "      <td>170653.000000</td>\n",
              "      <td>170653.000000</td>\n",
              "      <td>170653.000000</td>\n",
              "      <td>170653.000000</td>\n",
              "      <td>170653.000000</td>\n",
              "      <td>170653.000000</td>\n",
              "      <td>170653.000000</td>\n",
              "      <td>170653.000000</td>\n",
              "    </tr>\n",
              "    <tr>\n",
              "      <th>mean</th>\n",
              "      <td>2.309483e+05</td>\n",
              "      <td>1976.787241</td>\n",
              "      <td>0.528576</td>\n",
              "      <td>0.501989</td>\n",
              "      <td>0.537432</td>\n",
              "      <td>0.482325</td>\n",
              "      <td>0.167031</td>\n",
              "      <td>5.197184</td>\n",
              "      <td>0.205836</td>\n",
              "      <td>-11.466399</td>\n",
              "      <td>0.098489</td>\n",
              "      <td>116.861590</td>\n",
              "      <td>31.431794</td>\n",
              "    </tr>\n",
              "    <tr>\n",
              "      <th>std</th>\n",
              "      <td>1.261184e+05</td>\n",
              "      <td>25.917853</td>\n",
              "      <td>0.263165</td>\n",
              "      <td>0.375970</td>\n",
              "      <td>0.176101</td>\n",
              "      <td>0.267730</td>\n",
              "      <td>0.313493</td>\n",
              "      <td>3.513668</td>\n",
              "      <td>0.174820</td>\n",
              "      <td>5.692742</td>\n",
              "      <td>0.162985</td>\n",
              "      <td>30.708533</td>\n",
              "      <td>21.826615</td>\n",
              "    </tr>\n",
              "    <tr>\n",
              "      <th>min</th>\n",
              "      <td>5.108000e+03</td>\n",
              "      <td>1921.000000</td>\n",
              "      <td>0.000000</td>\n",
              "      <td>0.000000</td>\n",
              "      <td>0.000000</td>\n",
              "      <td>0.000000</td>\n",
              "      <td>0.000000</td>\n",
              "      <td>0.000000</td>\n",
              "      <td>0.000000</td>\n",
              "      <td>-60.000000</td>\n",
              "      <td>0.000000</td>\n",
              "      <td>0.000000</td>\n",
              "      <td>0.000000</td>\n",
              "    </tr>\n",
              "    <tr>\n",
              "      <th>25%</th>\n",
              "      <td>1.698270e+05</td>\n",
              "      <td>1956.000000</td>\n",
              "      <td>0.317000</td>\n",
              "      <td>0.101000</td>\n",
              "      <td>0.415000</td>\n",
              "      <td>0.255000</td>\n",
              "      <td>0.000000</td>\n",
              "      <td>2.000000</td>\n",
              "      <td>0.098800</td>\n",
              "      <td>-14.616000</td>\n",
              "      <td>0.034900</td>\n",
              "      <td>93.421000</td>\n",
              "      <td>11.000000</td>\n",
              "    </tr>\n",
              "    <tr>\n",
              "      <th>50%</th>\n",
              "      <td>2.074670e+05</td>\n",
              "      <td>1977.000000</td>\n",
              "      <td>0.540000</td>\n",
              "      <td>0.516000</td>\n",
              "      <td>0.548000</td>\n",
              "      <td>0.471000</td>\n",
              "      <td>0.000216</td>\n",
              "      <td>5.000000</td>\n",
              "      <td>0.136000</td>\n",
              "      <td>-10.578000</td>\n",
              "      <td>0.045000</td>\n",
              "      <td>114.729000</td>\n",
              "      <td>33.000000</td>\n",
              "    </tr>\n",
              "    <tr>\n",
              "      <th>75%</th>\n",
              "      <td>2.624000e+05</td>\n",
              "      <td>1999.000000</td>\n",
              "      <td>0.747000</td>\n",
              "      <td>0.893000</td>\n",
              "      <td>0.668000</td>\n",
              "      <td>0.703000</td>\n",
              "      <td>0.102000</td>\n",
              "      <td>8.000000</td>\n",
              "      <td>0.261000</td>\n",
              "      <td>-7.184000</td>\n",
              "      <td>0.075600</td>\n",
              "      <td>135.537000</td>\n",
              "      <td>48.000000</td>\n",
              "    </tr>\n",
              "    <tr>\n",
              "      <th>max</th>\n",
              "      <td>5.403500e+06</td>\n",
              "      <td>2020.000000</td>\n",
              "      <td>1.000000</td>\n",
              "      <td>0.996000</td>\n",
              "      <td>0.988000</td>\n",
              "      <td>1.000000</td>\n",
              "      <td>1.000000</td>\n",
              "      <td>11.000000</td>\n",
              "      <td>1.000000</td>\n",
              "      <td>3.855000</td>\n",
              "      <td>0.970000</td>\n",
              "      <td>243.507000</td>\n",
              "      <td>100.000000</td>\n",
              "    </tr>\n",
              "  </tbody>\n",
              "</table>\n",
              "</div>"
            ],
            "text/plain": [
              "              Durée          Année  ...          Tempo     Popularité\n",
              "count  1.706530e+05  170653.000000  ...  170653.000000  170653.000000\n",
              "mean   2.309483e+05    1976.787241  ...     116.861590      31.431794\n",
              "std    1.261184e+05      25.917853  ...      30.708533      21.826615\n",
              "min    5.108000e+03    1921.000000  ...       0.000000       0.000000\n",
              "25%    1.698270e+05    1956.000000  ...      93.421000      11.000000\n",
              "50%    2.074670e+05    1977.000000  ...     114.729000      33.000000\n",
              "75%    2.624000e+05    1999.000000  ...     135.537000      48.000000\n",
              "max    5.403500e+06    2020.000000  ...     243.507000     100.000000\n",
              "\n",
              "[8 rows x 13 columns]"
            ]
          },
          "metadata": {
            "tags": []
          },
          "execution_count": 8
        }
      ]
    },
    {
      "cell_type": "code",
      "metadata": {
        "colab": {
          "base_uri": "https://localhost:8080/"
        },
        "id": "aVkjezhIbTA-",
        "outputId": "aec42972-4f70-4997-d46e-ca03533b563d"
      },
      "source": [
        "df.info()"
      ],
      "execution_count": 9,
      "outputs": [
        {
          "output_type": "stream",
          "text": [
            "<class 'pandas.core.frame.DataFrame'>\n",
            "RangeIndex: 170653 entries, 0 to 170652\n",
            "Data columns (total 18 columns):\n",
            " #   Column        Non-Null Count   Dtype  \n",
            "---  ------        --------------   -----  \n",
            " 0   ID            170653 non-null  object \n",
            " 1   Artistes      170653 non-null  object \n",
            " 2   Titre         170653 non-null  object \n",
            " 3   Durée         170653 non-null  int64  \n",
            " 4   Année         170653 non-null  int64  \n",
            " 5   Valence       170653 non-null  float64\n",
            " 6   Acoustique    170653 non-null  float64\n",
            " 7   Dansant       170653 non-null  float64\n",
            " 8   Énergie       170653 non-null  float64\n",
            " 9   Explicite     170653 non-null  object \n",
            " 10  Instrumental  170653 non-null  float64\n",
            " 11  Tonalité      170653 non-null  float64\n",
            " 12  Direct        170653 non-null  float64\n",
            " 13  Intensité     170653 non-null  float64\n",
            " 14  Mode          170653 non-null  object \n",
            " 15  Discours      170653 non-null  float64\n",
            " 16  Tempo         170653 non-null  float64\n",
            " 17  Popularité    170653 non-null  int64  \n",
            "dtypes: float64(10), int64(3), object(5)\n",
            "memory usage: 23.4+ MB\n"
          ],
          "name": "stdout"
        }
      ]
    },
    {
      "cell_type": "code",
      "metadata": {
        "id": "HragZw9AbVDq"
      },
      "source": [
        ""
      ],
      "execution_count": 9,
      "outputs": []
    }
  ]
}